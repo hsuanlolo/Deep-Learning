{
  "cells": [
    {
      "cell_type": "markdown",
      "metadata": {
        "id": "Q91KqmCRu64D"
      },
      "source": [
        "# **Street View Housing Number Digit Recognition - Artificial Neural Networks**\n",
        "\n",
        "--------------\n",
        "### **Context:** \n",
        "--------------\n",
        "\n",
        "One of the most interesting tasks in deep learning is to recognize objects in natural scenes. The ability to process visual information using machine learning algorithms can be very useful as demonstrated in various applications.\n",
        "\n",
        "The SVHN dataset contains over 600,000 labeled digits cropped from street level photos. It is one of the most popular image recognition datasets. It has been used in neural networks created by Google to improve map quality by automatically transcribing the address numbers from a patch of pixels. The transcribed number with a known street address helps pinpoint the location of the building it represents. \n",
        "\n",
        "----------------\n",
        "### **Objective:**\n",
        "----------------\n",
        "\n",
        "Build a feed forward neural network model that can identify the digits in the images. \n",
        "\n",
        "-------------\n",
        "### **Dataset**\n",
        "-------------\n",
        "Here, we will use a subset of the original data to save some computation time. The dataset is provided as a .h5 file. The basic preprocessing steps have been done."
      ]
    },
    {
      "cell_type": "markdown",
      "metadata": {
        "id": "8z2Z7-OAs8QG"
      },
      "source": [
        "## **Mount the drive**\n",
        "Let us start by mounting the drive and importing the necessary libraries."
      ]
    },
    {
      "cell_type": "code",
      "execution_count": 52,
      "metadata": {
        "colab": {
          "base_uri": "https://localhost:8080/"
        },
        "id": "03lDyQUuef7z",
        "outputId": "9f3c6e24-9e96-4b7a-ca4a-98a7494b6d16"
      },
      "outputs": [
        {
          "name": "stdout",
          "output_type": "stream",
          "text": [
            "Drive already mounted at /content/drive; to attempt to forcibly remount, call drive.mount(\"/content/drive\", force_remount=True).\n"
          ]
        }
      ],
      "source": [
        "from google.colab import drive\n",
        "drive.mount('/content/drive')"
      ]
    },
    {
      "cell_type": "markdown",
      "metadata": {
        "id": "C8U3DUa3eNsT"
      },
      "source": [
        "## **Importing libraries**"
      ]
    },
    {
      "cell_type": "code",
      "execution_count": 53,
      "metadata": {
        "id": "-dVzeuF3eQx1"
      },
      "outputs": [],
      "source": [
        "import numpy as np\n",
        "import pandas as pd\n",
        "import matplotlib.pyplot as plt\n",
        "import seaborn as sns\n",
        "\n",
        "from sklearn.model_selection import train_test_split\n",
        "from sklearn.preprocessing import MinMaxScaler\n",
        "\n",
        "import tensorflow as tf\n",
        "from tensorflow.keras.models import Sequential\n",
        "from tensorflow.keras.layers import Dense, Dropout, Activation, BatchNormalization\n",
        "from tensorflow.keras.utils import to_categorical"
      ]
    },
    {
      "cell_type": "markdown",
      "metadata": {
        "id": "ucnevGLoyKf_"
      },
      "source": [
        "Let us check for the version of TensorFlow."
      ]
    },
    {
      "cell_type": "code",
      "execution_count": 54,
      "metadata": {
        "colab": {
          "base_uri": "https://localhost:8080/"
        },
        "id": "W5as47YxyJVk",
        "outputId": "7674821a-ea21-4b3c-b551-8a4ad68cc851"
      },
      "outputs": [
        {
          "name": "stdout",
          "output_type": "stream",
          "text": [
            "2.8.0\n"
          ]
        }
      ],
      "source": [
        "print(tf.__version__)"
      ]
    },
    {
      "cell_type": "markdown",
      "metadata": {
        "id": "8lsux2ZwyTTR"
      },
      "source": [
        "## **Load the dataset**\n",
        "- Let us now load the dataset that is available as a .h5 file.\n",
        "- Split the data into train and the test dataset"
      ]
    },
    {
      "cell_type": "code",
      "execution_count": 55,
      "metadata": {
        "id": "BApX9qgNsqV0",
        "scrolled": true
      },
      "outputs": [],
      "source": [
        "import h5py\n",
        "\n",
        "# Open the file as read only\n",
        "# User can make changes in the path as required\n",
        "h5f = h5py.File('/content/drive/MyDrive/SVHN_single_grey1.h5', 'r')\n",
        "\n",
        "# Load the training and the test set\n",
        "X_train = h5f['X_train'][:]\n",
        "y_train = h5f['y_train'][:]\n",
        "X_test = h5f['X_test'][:]\n",
        "y_test = h5f['y_test'][:]\n",
        "\n",
        "\n",
        "# Close this file\n",
        "h5f.close()"
      ]
    },
    {
      "cell_type": "markdown",
      "metadata": {
        "id": "hVe0CYpUgj7w"
      },
      "source": [
        "Let's check the number of images in the training and testing data."
      ]
    },
    {
      "cell_type": "code",
      "execution_count": 56,
      "metadata": {
        "colab": {
          "base_uri": "https://localhost:8080/"
        },
        "id": "y3lwKpOefkpA",
        "outputId": "dbb99550-485f-45b3-ae66-cbbbdb720987"
      },
      "outputs": [
        {
          "data": {
            "text/plain": [
              "(42000, 18000)"
            ]
          },
          "execution_count": 56,
          "metadata": {},
          "output_type": "execute_result"
        }
      ],
      "source": [
        "len(X_train), len(X_test)"
      ]
    },
    {
      "cell_type": "markdown",
      "metadata": {
        "id": "akTUOfLlgwoM"
      },
      "source": [
        "**Observations**\n",
        "- There are 42,000 images in the training data and 18,000 images in the testing data. "
      ]
    },
    {
      "cell_type": "markdown",
      "metadata": {
        "id": "kxODV6HKykuc"
      },
      "source": [
        "## **Visualizing images**\n",
        "- Use X_train to visualize the first 10 images\n",
        "- Use Y_train to print the first 10 labels"
      ]
    },
    {
      "cell_type": "code",
      "execution_count": 57,
      "metadata": {
        "colab": {
          "base_uri": "https://localhost:8080/",
          "height": 95
        },
        "id": "Bvsc8ytHsqWD",
        "outputId": "3c392eaa-4195-4149-e3b2-f9ea722330d6"
      },
      "outputs": [
        {
          "data": {
            "image/png": "[encoded data removed]",
            "text/plain": [
              "<Figure size 720x72 with 10 Axes>"
            ]
          },
          "metadata": {
            "needs_background": "light"
          },
          "output_type": "display_data"
        },
        {
          "name": "stdout",
          "output_type": "stream",
          "text": [
            "label for each of the above image: [2 6 7 4 4 0 3 0 7 3]\n"
          ]
        }
      ],
      "source": [
        "# visualizing the first 10 images in the dataset and their labels\n",
        "plt.figure(figsize=(10, 1))\n",
        "\n",
        "for i in range(10):\n",
        "    plt.subplot(1, 10, i+1)\n",
        "    plt.imshow(X_train[i], cmap=\"gray\")\n",
        "    plt.axis('off')\n",
        "\n",
        "plt.show()\n",
        "print('label for each of the above image: %s' % (y_train[0:10]))"
      ]
    },
    {
      "cell_type": "markdown",
      "metadata": {
        "id": "kzoyeXHOy80N"
      },
      "source": [
        "## **Data preparation**\n",
        "\n",
        "- Print the first image in the train image and figure out the shape of the images\n",
        "- Reshape the train and the test dataset to flatten them. Figure out the required shape\n",
        "- Normalise the train and the test dataset by dividing by 255\n",
        "- Print the new shapes of the train and the test set\n",
        "- One-hot encode the target variable"
      ]
    },
    {
      "cell_type": "code",
      "execution_count": 58,
      "metadata": {
        "colab": {
          "base_uri": "https://localhost:8080/"
        },
        "id": "NqndzQXng9rL",
        "outputId": "635becbd-5915-4bec-c23e-40b554a9f3c3"
      },
      "outputs": [
        {
          "name": "stdout",
          "output_type": "stream",
          "text": [
            "Shape: (32, 32)\n",
            "\n",
            "First image:\n",
            " [[ 33.0704  30.2601  26.852  ...  71.4471  58.2204  42.9939]\n",
            " [ 25.2283  25.5533  29.9765 ... 113.0209 103.3639  84.2949]\n",
            " [ 26.2775  22.6137  40.4763 ... 113.3028 121.775  115.4228]\n",
            " ...\n",
            " [ 28.5502  36.212   45.0801 ...  24.1359  25.0927  26.0603]\n",
            " [ 38.4352  26.4733  23.2717 ...  28.1094  29.4683  30.0661]\n",
            " [ 50.2984  26.0773  24.0389 ...  49.6682  50.853   53.0377]]\n"
          ]
        }
      ],
      "source": [
        "# Shape of the images and the first image\n",
        "\n",
        "print(\"Shape:\", X_train[0].shape)\n",
        "print()\n",
        "print(\"First image:\\n\", X_train[0])"
      ]
    },
    {
      "cell_type": "code",
      "execution_count": 59,
      "metadata": {
        "id": "D9YPwf9ysqWU"
      },
      "outputs": [],
      "source": [
        "# Reshaping the dataset to flatten them. Remember that we are trying to reshape the 2D image data into a 1D array\n",
        "\n",
        "X_train = X_train.reshape(X_train.shape[0], 1024)\n",
        "X_test = X_test.reshape(X_test.shape[0], 1024)"
      ]
    },
    {
      "cell_type": "markdown",
      "metadata": {
        "id": "VxCu9DtrGzH6"
      },
      "source": [
        "#### **Question 1: Normalize the train and test data (2 Marks)**"
      ]
    },
    {
      "cell_type": "code",
      "execution_count": 60,
      "metadata": {
        "id": "q_yUUTp_mUzB"
      },
      "outputs": [],
      "source": [
        "# Normalize inputs from 0-255 to 0-1\n",
        "scaler = MinMaxScaler()\n",
        "X_train = scaler.fit_transform(X_train)\n",
        "X_test = scaler.fit_transform(X_test)"
      ]
    },
    {
      "cell_type": "code",
      "execution_count": 61,
      "metadata": {
        "colab": {
          "base_uri": "https://localhost:8080/"
        },
        "id": "t7FSqOpamWkH",
        "outputId": "aa170f58-51a7-4798-d73e-a5449ef41972"
      },
      "outputs": [
        {
          "name": "stdout",
          "output_type": "stream",
          "text": [
            "Training set: (42000, 1024) (42000,)\n",
            "Test set: (18000, 1024) (18000,)\n"
          ]
        }
      ],
      "source": [
        "# New shape \n",
        "\n",
        "print('Training set:', X_train.shape, y_train.shape)\n",
        "print('Test set:', X_test.shape, y_test.shape)"
      ]
    },
    {
      "cell_type": "code",
      "execution_count": 62,
      "metadata": {
        "colab": {
          "base_uri": "https://localhost:8080/"
        },
        "id": "zL0lYER4sqWw",
        "outputId": "af31b1f5-b53c-4b1d-935f-cf2da5ab4977"
      },
      "outputs": [
        {
          "data": {
            "text/plain": [
              "array([[0., 1., 0., ..., 0., 0., 0.],\n",
              "       [0., 0., 0., ..., 1., 0., 0.],\n",
              "       [0., 0., 1., ..., 0., 0., 0.],\n",
              "       ...,\n",
              "       [0., 0., 0., ..., 1., 0., 0.],\n",
              "       [0., 0., 0., ..., 0., 0., 1.],\n",
              "       [0., 0., 1., ..., 0., 0., 0.]], dtype=float32)"
            ]
          },
          "execution_count": 62,
          "metadata": {},
          "output_type": "execute_result"
        }
      ],
      "source": [
        "# one hot encode output\n",
        "y_train = to_categorical(y_train)\n",
        "y_test = to_categorical(y_test)\n",
        "\n",
        "# no.of classes\n",
        "y_test"
      ]
    },
    {
      "cell_type": "markdown",
      "metadata": {
        "id": "ViqPOTquCF76"
      },
      "source": [
        "**Observations**\n",
        "- Notice that each entry of y_test is a one-hot encoded vector instead of a single label."
      ]
    },
    {
      "cell_type": "markdown",
      "metadata": {
        "id": "yH-gVrzuByNA"
      },
      "source": [
        "## **Model Building**\n",
        "\n",
        "Now, we have done the data preprocessing, let's build an ANN model."
      ]
    },
    {
      "cell_type": "code",
      "execution_count": 12,
      "metadata": {
        "id": "d9ZjN17XGzIA"
      },
      "outputs": [],
      "source": [
        "#Fixing the seed for random number generators\n",
        "np.random.seed(42)\n",
        "import random\n",
        "random.seed(42)\n",
        "tf.random.set_seed(42)"
      ]
    },
    {
      "cell_type": "markdown",
      "metadata": {
        "id": "UJDUoaEj1d6e"
      },
      "source": [
        "### **Model Architecture**\n",
        "- Write a function that returns a sequential model with the following architecture\n",
        " - First hidden layer with **64 nodes and relu activation** and the input shape which is used above\n",
        " - Second hidden layer with **32 nodes and relu activation**\n",
        " - Output layer with **softmax activation and number of nodes equal to the number of classes**\n",
        " -Compile the model with the **categorical_crossentropy loss, adam optimizer (learning_rate = 0.001), and accuracy metric**. Do not fit the model here, just return the compiled model.\n",
        "- Call the function and store the model in a new variable \n",
        "- Print the summary of the model\n",
        "- Fit on the train data with a **validation split of 0.2, batch size = 128, verbose = 1, and 20 epochs**. Store the model building history to use later for visualization."
      ]
    },
    {
      "cell_type": "markdown",
      "metadata": {
        "id": "24NB3aVsGzIC"
      },
      "source": [
        "#### **Question 2: Build and train a ANN model as per the above mentioned architecture (10 Marks)**"
      ]
    },
    {
      "cell_type": "code",
      "execution_count": 63,
      "metadata": {
        "id": "1zKYc_IjIveM"
      },
      "outputs": [],
      "source": [
        "#Importing losses and optimizers modules\n",
        "from tensorflow.keras import losses\n",
        "from tensorflow.keras import optimizers\n",
        "\n",
        "#Define the function\n",
        "def nn_model_1():\n",
        "    model = tf.keras.Sequential([\n",
        "    tf.keras.layers.Dense(64, activation='relu', input_shape=(1024, )),\n",
        "    tf.keras.layers.Dense(32, activation='relu'),\n",
        "    tf.keras.layers.Dense(10, activation = 'softmax')\n",
        "    ]) \n",
        "    \n",
        "    #declare adam optimizer with learning rate of 0.001 \n",
        "    adam = optimizers.Adam(learning_rate=0.001)\n",
        "    \n",
        "    #compile the model\n",
        "    model.compile(optimizer='adam', loss='categorical_crossentropy',  metrics = ['accuracy'])\n",
        "    return model"
      ]
    },
    {
      "cell_type": "code",
      "execution_count": 64,
      "metadata": {
        "id": "bGCUI_xsImnH"
      },
      "outputs": [],
      "source": [
        "# Build the model\n",
        "model_1 = nn_model_1()"
      ]
    },
    {
      "cell_type": "code",
      "execution_count": 65,
      "metadata": {
        "colab": {
          "base_uri": "https://localhost:8080/"
        },
        "id": "ckJsLdmdQadZ",
        "outputId": "8d7b163b-beff-48b4-d0a5-1257d36c4f61"
      },
      "outputs": [
        {
          "name": "stdout",
          "output_type": "stream",
          "text": [
            "Model: \"sequential_1\"\n",
            "_________________________________________________________________\n",
            " Layer (type)                Output Shape              Param #   \n",
            "=================================================================\n",
            " dense_6 (Dense)             (None, 64)                65600     \n",
            "                                                                 \n",
            " dense_7 (Dense)             (None, 32)                2080      \n",
            "                                                                 \n",
            " dense_8 (Dense)             (None, 10)                330       \n",
            "                                                                 \n",
            "=================================================================\n",
            "Total params: 68,010\n",
            "Trainable params: 68,010\n",
            "Non-trainable params: 0\n",
            "_________________________________________________________________\n"
          ]
        }
      ],
      "source": [
        "#Print the summary\n",
        "model_1.summary()"
      ]
    },
    {
      "cell_type": "code",
      "execution_count": 66,
      "metadata": {
        "colab": {
          "base_uri": "https://localhost:8080/"
        },
        "id": "_pri7fHeGthc",
        "outputId": "ca4de76f-ac0e-4317-e162-3d9ea4204f4f"
      },
      "outputs": [
        {
          "name": "stdout",
          "output_type": "stream",
          "text": [
            "Epoch 1/20\n",
            "263/263 [==============================] - 2s 6ms/step - loss: 2.2794 - accuracy: 0.1288 - val_loss: 2.1864 - val_accuracy: 0.1856\n",
            "Epoch 2/20\n",
            "263/263 [==============================] - 2s 6ms/step - loss: 2.0395 - accuracy: 0.2614 - val_loss: 1.8701 - val_accuracy: 0.3449\n",
            "Epoch 3/20\n",
            "263/263 [==============================] - 2s 7ms/step - loss: 1.7554 - accuracy: 0.3835 - val_loss: 1.6446 - val_accuracy: 0.4221\n",
            "Epoch 4/20\n",
            "263/263 [==============================] - 2s 7ms/step - loss: 1.5913 - accuracy: 0.4511 - val_loss: 1.5309 - val_accuracy: 0.4719\n",
            "Epoch 5/20\n",
            "263/263 [==============================] - 2s 6ms/step - loss: 1.4931 - accuracy: 0.4991 - val_loss: 1.4605 - val_accuracy: 0.5106\n",
            "Epoch 6/20\n",
            "263/263 [==============================] - 1s 6ms/step - loss: 1.4248 - accuracy: 0.5317 - val_loss: 1.3822 - val_accuracy: 0.5529\n",
            "Epoch 7/20\n",
            "263/263 [==============================] - 1s 6ms/step - loss: 1.3643 - accuracy: 0.5564 - val_loss: 1.3243 - val_accuracy: 0.5826\n",
            "Epoch 8/20\n",
            "263/263 [==============================] - 2s 6ms/step - loss: 1.3121 - accuracy: 0.5785 - val_loss: 1.2774 - val_accuracy: 0.5958\n",
            "Epoch 9/20\n",
            "263/263 [==============================] - 2s 6ms/step - loss: 1.2742 - accuracy: 0.5939 - val_loss: 1.2454 - val_accuracy: 0.6096\n",
            "Epoch 10/20\n",
            "263/263 [==============================] - 2s 6ms/step - loss: 1.2338 - accuracy: 0.6104 - val_loss: 1.2277 - val_accuracy: 0.6160\n",
            "Epoch 11/20\n",
            "263/263 [==============================] - 1s 5ms/step - loss: 1.2074 - accuracy: 0.6190 - val_loss: 1.1966 - val_accuracy: 0.6273\n",
            "Epoch 12/20\n",
            "263/263 [==============================] - 2s 6ms/step - loss: 1.1890 - accuracy: 0.6265 - val_loss: 1.1690 - val_accuracy: 0.6407\n",
            "Epoch 13/20\n",
            "263/263 [==============================] - 2s 6ms/step - loss: 1.1600 - accuracy: 0.6405 - val_loss: 1.1532 - val_accuracy: 0.6473\n",
            "Epoch 14/20\n",
            "263/263 [==============================] - 2s 6ms/step - loss: 1.1397 - accuracy: 0.6473 - val_loss: 1.1307 - val_accuracy: 0.6504\n",
            "Epoch 15/20\n",
            "263/263 [==============================] - 2s 6ms/step - loss: 1.1210 - accuracy: 0.6543 - val_loss: 1.1271 - val_accuracy: 0.6576\n",
            "Epoch 16/20\n",
            "263/263 [==============================] - 1s 5ms/step - loss: 1.1053 - accuracy: 0.6624 - val_loss: 1.0923 - val_accuracy: 0.6679\n",
            "Epoch 17/20\n",
            "263/263 [==============================] - 1s 6ms/step - loss: 1.0898 - accuracy: 0.6667 - val_loss: 1.0817 - val_accuracy: 0.6714\n",
            "Epoch 18/20\n",
            "263/263 [==============================] - 1s 6ms/step - loss: 1.0767 - accuracy: 0.6695 - val_loss: 1.0976 - val_accuracy: 0.6624\n",
            "Epoch 19/20\n",
            "263/263 [==============================] - 2s 6ms/step - loss: 1.0704 - accuracy: 0.6717 - val_loss: 1.0856 - val_accuracy: 0.6705\n",
            "Epoch 20/20\n",
            "263/263 [==============================] - 2s 6ms/step - loss: 1.0522 - accuracy: 0.6802 - val_loss: 1.0865 - val_accuracy: 0.6635\n"
          ]
        }
      ],
      "source": [
        "# Fit the model\n",
        "history_model_1 = model_1.fit(X_train, y_train, epochs=20, validation_split=0.2, batch_size=128, verbose = 1)"
      ]
    },
    {
      "cell_type": "markdown",
      "metadata": {
        "id": "tKOckG-KPyLg"
      },
      "source": [
        "### **Plotting the validation and training accuracies**"
      ]
    },
    {
      "cell_type": "markdown",
      "metadata": {
        "id": "CuKXZ3SmGzIG"
      },
      "source": [
        "#### **Question 3: Write your observations on the below plot (2 Marks)**"
      ]
    },
    {
      "cell_type": "code",
      "execution_count": null,
      "metadata": {
        "colab": {
          "base_uri": "https://localhost:8080/",
          "height": 497
        },
        "id": "lt77zgGMP4yw",
        "outputId": "75f66bf3-4507-4157-fc7d-c398b5057c52"
      },
      "outputs": [
        {
          "data": {
            "image/png": "[encoded data removed]",
            "text/plain": [
              "<Figure size 576x576 with 1 Axes>"
            ]
          },
          "metadata": {
            "needs_background": "light",
            "tags": []
          },
          "output_type": "display_data"
        }
      ],
      "source": [
        "# plotting the accuracies\n",
        "\n",
        "dict_hist = history_model_1.history\n",
        "list_ep = [i for i in range(1,21)]\n",
        "\n",
        "plt.figure(figsize = (8,8))\n",
        "plt.plot(list_ep,dict_hist['accuracy'],ls = '--', label = 'accuracy')\n",
        "plt.plot(list_ep,dict_hist['val_accuracy'],ls = '--', label = 'val_accuracy')\n",
        "plt.ylabel('Accuracy')\n",
        "plt.xlabel('Epochs')\n",
        "plt.legend()\n",
        "plt.show()"
      ]
    },
    {
      "cell_type": "markdown",
      "metadata": {
        "id": "pGBbQpLONX7k"
      },
      "source": [
        "**Observations:**\n",
        "\n",
        "- The training accuracy is increasing with the increase in epochs.\n",
        "- The validation accuracy is constant and slightly increasing between 7.5 and 20.0. However, it is fluctuating a bit post 10.0 epochs.\n",
        "- The model is not giving good accuracy since even after 10.0 epochs, the accuracy of the model on the training data is still about ~60% and the validation accuracy is ~65%.\n",
        "- However, the validation accuracy is closer to the training accuracy. This indicates that the model is giving a generalized performance.\n"
      ]
    },
    {
      "cell_type": "markdown",
      "metadata": {
        "id": "z0qgLMBZm5-K"
      },
      "source": [
        "\n",
        "Let's build one more model with higher complexity and see if we can improve the performance of the model. \n",
        "\n",
        "First, we need to clear the previous model's history from the keras backend. Also, let's fix the seed again after clearing the backend."
      ]
    },
    {
      "cell_type": "code",
      "execution_count": 28,
      "metadata": {
        "id": "y98BpLxsok_H"
      },
      "outputs": [],
      "source": [
        "#Clearing backend\n",
        "from tensorflow.keras import backend\n",
        "backend.clear_session()"
      ]
    },
    {
      "cell_type": "code",
      "execution_count": 29,
      "metadata": {
        "id": "HbKi93HTolGW"
      },
      "outputs": [],
      "source": [
        "#Fixing the seed for random number generators\n",
        "np.random.seed(42)\n",
        "import random\n",
        "random.seed(42)\n",
        "tf.random.set_seed(42)"
      ]
    },
    {
      "cell_type": "markdown",
      "metadata": {
        "id": "lT6o3TIKuCtk"
      },
      "source": [
        "### **Second Model Architecture**\n",
        "- Write a function that returns a sequential model with the following architecture\n",
        " - First hidden layer with **256 nodes and relu activation**\n",
        " - Second hidden layer with **128 nodes and relu activation**\n",
        " - Add the **Dropout layer with rate equal to 0.2**\n",
        " - Third hidden layer with **64 nodes and relu activation**\n",
        " - Fourth hidden layer with **64 nodes and relu activation**\n",
        " - Fifth hidden layer with **32 nodes and relu activation**\n",
        " - Add the **BatchNormalization layer**\n",
        " - Output layer with **softmax activation and number of nodes equal to the number of classes**\n",
        " -Compile the model with the **categorical_crossentropy loss, adam optimizer (learning_rate = 0.0005), and accuracy metric**. Do not fit the model here, just return the compiled model.\n",
        "- Call the function and store the model in a new variable \n",
        "- Print the summary of the model\n",
        "- Fit on the train data with a **validation split of 0.2, batch size = 128, verbose = 1, and 30 epochs**. Store the model building history to use later for visualization."
      ]
    },
    {
      "cell_type": "markdown",
      "metadata": {
        "id": "4dV32YjAGzIR"
      },
      "source": [
        "#### **Question 4: Build and train the new ANN model as per the above mentioned architecture (10 Marks)**"
      ]
    },
    {
      "cell_type": "code",
      "execution_count": 72,
      "metadata": {
        "id": "EEPYLFIPnSDP"
      },
      "outputs": [],
      "source": [
        "#Importing losses and optimizers modules\n",
        "from tensorflow.keras import losses\n",
        "from tensorflow.keras import optimizers\n",
        "\n",
        "#Define the function\n",
        "def nn_model_2():\n",
        "    model_2 = tf.keras.Sequential([\n",
        "      tf.keras.layers.Dense(256, activation='relu', input_shape=(1024, )),\n",
        "      tf.keras.layers.Dense(128, activation='relu'),\n",
        "      tf.keras.layers.Dropout(rate = 0.2),\n",
        "      tf.keras.layers.Dense(64, activation='relu'),\n",
        "      tf.keras.layers.Dense(64, activation='relu'),\n",
        "      tf.keras.layers.Dense(32, activation='relu'),\n",
        "      tf.keras.layers.BatchNormalization(),\n",
        "      tf.keras.layers.Dense(10, activation = 'softmax')             \n",
        "    ]) \n",
        "\n",
        "\n",
        "    #declare adam optimizer with learning rate of 0.0005 \n",
        "    adam = optimizers.Adam(learning_rate=0.0005)\n",
        "    \n",
        "    #compile the model\n",
        "    model_2.compile(optimizer=adam, loss= 'categorical_crossentropy', metrics= ['accuracy'])\n",
        "    \n",
        "    return model_2"
      ]
    },
    {
      "cell_type": "code",
      "execution_count": 73,
      "metadata": {
        "id": "AKjDY4plnSFl"
      },
      "outputs": [],
      "source": [
        "# Build the model\n",
        "model_2 = nn_model_2()"
      ]
    },
    {
      "cell_type": "code",
      "execution_count": 74,
      "metadata": {
        "colab": {
          "base_uri": "https://localhost:8080/"
        },
        "id": "gz_6SVrU2swZ",
        "outputId": "ddb2cc87-63b9-4813-e19c-0197c0eb1afd"
      },
      "outputs": [
        {
          "name": "stdout",
          "output_type": "stream",
          "text": [
            "Model: \"sequential_3\"\n",
            "_________________________________________________________________\n",
            " Layer (type)                Output Shape              Param #   \n",
            "=================================================================\n",
            " dense_15 (Dense)            (None, 256)               262400    \n",
            "                                                                 \n",
            " dense_16 (Dense)            (None, 128)               32896     \n",
            "                                                                 \n",
            " dropout_2 (Dropout)         (None, 128)               0         \n",
            "                                                                 \n",
            " dense_17 (Dense)            (None, 64)                8256      \n",
            "                                                                 \n",
            " dense_18 (Dense)            (None, 64)                4160      \n",
            "                                                                 \n",
            " dense_19 (Dense)            (None, 32)                2080      \n",
            "                                                                 \n",
            " batch_normalization_1 (Batc  (None, 32)               128       \n",
            " hNormalization)                                                 \n",
            "                                                                 \n",
            " dense_20 (Dense)            (None, 10)                330       \n",
            "                                                                 \n",
            "=================================================================\n",
            "Total params: 310,250\n",
            "Trainable params: 310,186\n",
            "Non-trainable params: 64\n",
            "_________________________________________________________________\n"
          ]
        }
      ],
      "source": [
        "#Print the model summary\n",
        "model_2.summary()"
      ]
    },
    {
      "cell_type": "code",
      "execution_count": 75,
      "metadata": {
        "colab": {
          "base_uri": "https://localhost:8080/"
        },
        "id": "YFiaTSw0HcJr",
        "outputId": "8ac7f797-5ac1-4845-f1a7-9b2068bd9826"
      },
      "outputs": [
        {
          "name": "stdout",
          "output_type": "stream",
          "text": [
            "Epoch 1/30\n",
            "263/263 [==============================] - 4s 13ms/step - loss: 2.3418 - accuracy: 0.1014 - val_loss: 2.3090 - val_accuracy: 0.0976\n",
            "Epoch 2/30\n",
            "263/263 [==============================] - 3s 12ms/step - loss: 2.2904 - accuracy: 0.1239 - val_loss: 2.2456 - val_accuracy: 0.1489\n",
            "Epoch 3/30\n",
            "263/263 [==============================] - 3s 12ms/step - loss: 1.8120 - accuracy: 0.3437 - val_loss: 1.6713 - val_accuracy: 0.4608\n",
            "Epoch 4/30\n",
            "263/263 [==============================] - 3s 11ms/step - loss: 1.4640 - accuracy: 0.4978 - val_loss: 1.4033 - val_accuracy: 0.5136\n",
            "Epoch 5/30\n",
            "263/263 [==============================] - 3s 12ms/step - loss: 1.3092 - accuracy: 0.5678 - val_loss: 1.2310 - val_accuracy: 0.5952\n",
            "Epoch 6/30\n",
            "263/263 [==============================] - 3s 12ms/step - loss: 1.2063 - accuracy: 0.6084 - val_loss: 1.1355 - val_accuracy: 0.6274\n",
            "Epoch 7/30\n",
            "263/263 [==============================] - 3s 12ms/step - loss: 1.1322 - accuracy: 0.6368 - val_loss: 1.1070 - val_accuracy: 0.6483\n",
            "Epoch 8/30\n",
            "263/263 [==============================] - 3s 12ms/step - loss: 1.0830 - accuracy: 0.6569 - val_loss: 1.0762 - val_accuracy: 0.6600\n",
            "Epoch 9/30\n",
            "263/263 [==============================] - 3s 12ms/step - loss: 1.0448 - accuracy: 0.6646 - val_loss: 1.0173 - val_accuracy: 0.6755\n",
            "Epoch 10/30\n",
            "263/263 [==============================] - 3s 12ms/step - loss: 1.0142 - accuracy: 0.6754 - val_loss: 1.0162 - val_accuracy: 0.6719\n",
            "Epoch 11/30\n",
            "263/263 [==============================] - 3s 12ms/step - loss: 0.9793 - accuracy: 0.6887 - val_loss: 0.9257 - val_accuracy: 0.7085\n",
            "Epoch 12/30\n",
            "263/263 [==============================] - 3s 12ms/step - loss: 0.9515 - accuracy: 0.6979 - val_loss: 0.9702 - val_accuracy: 0.6892\n",
            "Epoch 13/30\n",
            "263/263 [==============================] - 3s 12ms/step - loss: 0.9328 - accuracy: 0.7033 - val_loss: 0.9439 - val_accuracy: 0.7018\n",
            "Epoch 14/30\n",
            "263/263 [==============================] - 3s 12ms/step - loss: 0.9105 - accuracy: 0.7088 - val_loss: 0.9146 - val_accuracy: 0.7125\n",
            "Epoch 15/30\n",
            "263/263 [==============================] - 3s 11ms/step - loss: 0.9021 - accuracy: 0.7135 - val_loss: 0.8989 - val_accuracy: 0.7099\n",
            "Epoch 16/30\n",
            "263/263 [==============================] - 3s 12ms/step - loss: 0.8850 - accuracy: 0.7190 - val_loss: 0.8837 - val_accuracy: 0.7220\n",
            "Epoch 17/30\n",
            "263/263 [==============================] - 3s 12ms/step - loss: 0.8612 - accuracy: 0.7258 - val_loss: 0.8537 - val_accuracy: 0.7357\n",
            "Epoch 18/30\n",
            "263/263 [==============================] - 3s 12ms/step - loss: 0.8535 - accuracy: 0.7290 - val_loss: 0.8663 - val_accuracy: 0.7298\n",
            "Epoch 19/30\n",
            "263/263 [==============================] - 3s 12ms/step - loss: 0.8439 - accuracy: 0.7312 - val_loss: 0.8596 - val_accuracy: 0.7339\n",
            "Epoch 20/30\n",
            "263/263 [==============================] - 3s 12ms/step - loss: 0.8269 - accuracy: 0.7360 - val_loss: 0.8748 - val_accuracy: 0.7274\n",
            "Epoch 21/30\n",
            "263/263 [==============================] - 3s 12ms/step - loss: 0.8284 - accuracy: 0.7362 - val_loss: 0.8606 - val_accuracy: 0.7343\n",
            "Epoch 22/30\n",
            "263/263 [==============================] - 3s 12ms/step - loss: 0.8163 - accuracy: 0.7395 - val_loss: 0.8086 - val_accuracy: 0.7479\n",
            "Epoch 23/30\n",
            "263/263 [==============================] - 3s 11ms/step - loss: 0.8054 - accuracy: 0.7448 - val_loss: 0.8475 - val_accuracy: 0.7338\n",
            "Epoch 24/30\n",
            "263/263 [==============================] - 3s 12ms/step - loss: 0.7867 - accuracy: 0.7490 - val_loss: 0.8363 - val_accuracy: 0.7342\n",
            "Epoch 25/30\n",
            "263/263 [==============================] - 3s 11ms/step - loss: 0.7910 - accuracy: 0.7490 - val_loss: 0.7912 - val_accuracy: 0.7511\n",
            "Epoch 26/30\n",
            "263/263 [==============================] - 3s 12ms/step - loss: 0.7838 - accuracy: 0.7497 - val_loss: 0.8201 - val_accuracy: 0.7437\n",
            "Epoch 27/30\n",
            "263/263 [==============================] - 3s 12ms/step - loss: 0.7597 - accuracy: 0.7576 - val_loss: 0.7820 - val_accuracy: 0.7549\n",
            "Epoch 28/30\n",
            "263/263 [==============================] - 3s 12ms/step - loss: 0.7590 - accuracy: 0.7586 - val_loss: 0.8231 - val_accuracy: 0.7423\n",
            "Epoch 29/30\n",
            "263/263 [==============================] - 3s 12ms/step - loss: 0.7648 - accuracy: 0.7552 - val_loss: 0.7937 - val_accuracy: 0.7525\n",
            "Epoch 30/30\n",
            "263/263 [==============================] - 3s 12ms/step - loss: 0.7528 - accuracy: 0.7610 - val_loss: 0.7418 - val_accuracy: 0.7714\n"
          ]
        }
      ],
      "source": [
        "# Fit the model\n",
        "history_model_2 = model_2.fit(X_train,y_train, epochs=30, validation_split=0.2, batch_size=128, verbose = 1)"
      ]
    },
    {
      "cell_type": "markdown",
      "metadata": {
        "id": "qtE4DFxdGzIT"
      },
      "source": [
        "### **Plotting the validation and training accuracies**"
      ]
    },
    {
      "cell_type": "markdown",
      "metadata": {
        "id": "O1td6Nd4GzIU"
      },
      "source": [
        "#### **Question 5: Write your observations on the below plot (2 Marks)**"
      ]
    },
    {
      "cell_type": "code",
      "execution_count": 76,
      "metadata": {
        "colab": {
          "base_uri": "https://localhost:8080/",
          "height": 498
        },
        "id": "01ig6BrF1KVy",
        "outputId": "37e3d85f-cd29-44c8-a286-86cfddb916cd"
      },
      "outputs": [
        {
          "data": {
            "image/png": "[encoded data removed]",
            "text/plain": [
              "<Figure size 576x576 with 1 Axes>"
            ]
          },
          "metadata": {
            "needs_background": "light"
          },
          "output_type": "display_data"
        }
      ],
      "source": [
        "# plotting the accuracies\n",
        "\n",
        "dict_hist = history_model_2.history\n",
        "list_ep = [i for i in range(1,31)]\n",
        "\n",
        "plt.figure(figsize = (8,8))\n",
        "plt.plot(list_ep,dict_hist['accuracy'],ls = '--', label = 'accuracy')\n",
        "plt.plot(list_ep,dict_hist['val_accuracy'],ls = '--', label = 'val_accuracy')\n",
        "plt.ylabel('Accuracy')\n",
        "plt.xlabel('Epochs')\n",
        "plt.legend()\n",
        "plt.show()"
      ]
    },
    {
      "cell_type": "markdown",
      "metadata": {
        "id": "VPW1LlD61RDn"
      },
      "source": [
        "**Observations:**\n",
        "\n",
        "- The training accuracy is increasing with the increase in epochs and symetric to some level, which rejects overfitting concerns.\n",
        "- The validation accuracy is rapidly increasing after 8 epochs amd keeps increasing after the threshold with a little fluctuation.\n",
        "- The model is giving better accuracy than the model 1 since  after 15.0 epochs, the accuracy of the model on the training data is constantly higher than 70%.\n",
        "- The validation accuracy is closer to the training accuracy. This indicates that the model is giving a generalized performance."
      ]
    },
    {
      "cell_type": "markdown",
      "metadata": {
        "id": "8kuXx9Bvu00f"
      },
      "source": [
        "## **Predictions on the test data**\n",
        "\n",
        "- Make predictions on the test set using the second model\n",
        "- Print the obtained results using the classification report and the confusion matrix\n",
        "- Final observations from the obtained results"
      ]
    },
    {
      "cell_type": "code",
      "execution_count": 77,
      "metadata": {
        "id": "xbWMEtTj5Ad0"
      },
      "outputs": [],
      "source": [
        "test_pred = model_2.predict(X_test)\n",
        "\n",
        "test_pred = np.argmax(test_pred, axis=-1)"
      ]
    },
    {
      "cell_type": "markdown",
      "metadata": {
        "id": "i3li8Ib08yts"
      },
      "source": [
        "**Note:** Earlier, we noticed that each entry of the test data is a one-hot encoded vector but to print the classification report and confusion matrix, we must convert each entry of y_test to a single label."
      ]
    },
    {
      "cell_type": "code",
      "execution_count": 78,
      "metadata": {
        "id": "NByu7uAQ8x9P"
      },
      "outputs": [],
      "source": [
        "#Converting each entry to single label from one-hot encoded vector\n",
        "y_test = np.argmax(y_test, axis=-1)"
      ]
    },
    {
      "cell_type": "markdown",
      "metadata": {
        "id": "JVxGB0qaGzIY"
      },
      "source": [
        "#### **Question 6: Print the classification report and the confusion matrix for the test predictions. Write your observations on the final results (4 Marks)**"
      ]
    },
    {
      "cell_type": "code",
      "execution_count": 79,
      "metadata": {
        "colab": {
          "base_uri": "https://localhost:8080/",
          "height": 623
        },
        "id": "xRddeJ-3EHT1",
        "outputId": "de9e597e-a43b-47bf-cfde-ef1a00e81d13"
      },
      "outputs": [
        {
          "name": "stdout",
          "output_type": "stream",
          "text": [
            "              precision    recall  f1-score   support\n",
            "\n",
            "           0       0.82      0.79      0.81      1814\n",
            "           1       0.74      0.82      0.78      1828\n",
            "           2       0.83      0.74      0.78      1803\n",
            "           3       0.72      0.72      0.72      1719\n",
            "           4       0.72      0.86      0.79      1812\n",
            "           5       0.76      0.72      0.74      1768\n",
            "           6       0.76      0.78      0.77      1832\n",
            "           7       0.80      0.78      0.79      1808\n",
            "           8       0.75      0.68      0.72      1812\n",
            "           9       0.74      0.74      0.74      1804\n",
            "\n",
            "    accuracy                           0.76     18000\n",
            "   macro avg       0.77      0.76      0.76     18000\n",
            "weighted avg       0.77      0.76      0.76     18000\n",
            "\n"
          ]
        },
        {
          "data": {
            "image/png": "[encoded data removed]",
            "text/plain": [
              "<Figure size 576x360 with 2 Axes>"
            ]
          },
          "metadata": {
            "needs_background": "light"
          },
          "output_type": "display_data"
        }
      ],
      "source": [
        "#importing required functions\n",
        "from sklearn.metrics import classification_report\n",
        "from sklearn.metrics import confusion_matrix\n",
        "\n",
        "#Printing the classification report\n",
        "print(classification_report(y_test, test_pred))\n",
        "\n",
        "#Plotting the heatmap using confusion matrix\n",
        "cm = confusion_matrix(y_test, test_pred) #Write the code for creating confusion matrix using actual labels and predicted labels\n",
        "\n",
        "plt.figure(figsize=(8,5))\n",
        "sns.heatmap(cm, annot=True,  fmt='.0f')\n",
        "plt.ylabel('Actual')\n",
        "plt.xlabel('Predicted')\n",
        "plt.show()"
      ]
    },
    {
      "cell_type": "markdown",
      "metadata": {
        "id": "DjErl4GA2u9s"
      },
      "source": [
        "#### **Observations:**\n",
        "\n",
        "- Number 2 and Number 0 have the highest precision, which means the model can classify these two numbers correctly, while number 3 and 4 have the lowest precision, which means the model more frequently classify other numbers as 3 and 4 which is not valid.\n",
        "\n",
        "- Number 4 has the highest recall, which means it is easier for the model to identify number 4. However, number 3 and 5 have the lowest recall, which means the model struggles to identify these two numbers.\n",
        "\n",
        "- Number 0 and number 4 have the highest f1-score, which means they have the higher chances to be recognized correctly. However, number 3 and number 8 are less likely to be recognized.\n",
        "\n",
        "- The matrix shows that the model often got 3 and 5 or 6 and 8 mixed up.\n"
      ]
    }
  ],
  "metadata": {
    "accelerator": "TPU",
    "colab": {
      "collapsed_sections": [],
      "name": "NN_Project_Learner_Notebook_SVHN.ipynb",
      "provenance": []
    },
    "kernelspec": {
      "display_name": "Python 3",
      "language": "python",
      "name": "python3"
    },
    "language_info": {
      "codemirror_mode": {
        "name": "ipython",
        "version": 3
      },
      "file_extension": ".py",
      "mimetype": "text/x-python",
      "name": "python",
      "nbconvert_exporter": "python",
      "pygments_lexer": "ipython3",
      "version": "3.8.8"
    }
  },
  "nbformat": 4,
  "nbformat_minor": 0
}
